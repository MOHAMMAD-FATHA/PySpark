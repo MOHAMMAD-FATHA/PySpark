{
 "cells": [
  {
   "cell_type": "code",
   "execution_count": 1,
   "source": [
    "\"\"\"\n",
    "@Author: Mohammad Fatha\n",
    "@Date: 2021-11-24\n",
    "@Last Modified by: Mohammad Fatha\n",
    "@Title : To create a dataframe from titanic.csv and perform operations on it.\n",
    "\"\"\"\n",
    "import findspark"
   ],
   "outputs": [],
   "metadata": {}
  },
  {
   "cell_type": "code",
   "execution_count": 3,
   "source": [
    "findspark.init('/home/fatha/Downloads/spark-3.1.2-bin-hadoop3.2')"
   ],
   "outputs": [],
   "metadata": {}
  },
  {
   "cell_type": "code",
   "execution_count": 4,
   "source": [
    "from pyspark.sql import *\n",
    "spark = SparkSession.builder.getOrCreate()"
   ],
   "outputs": [
    {
     "output_type": "stream",
     "name": "stderr",
     "text": [
      "2021-11-24 01:18:11,219 WARN util.NativeCodeLoader: Unable to load native-hadoop library for your platform... using builtin-java classes where applicable\n",
      "Setting default log level to \"WARN\".\n",
      "To adjust logging level use sc.setLogLevel(newLevel). For SparkR, use setLogLevel(newLevel).\n"
     ]
    }
   ],
   "metadata": {}
  },
  {
   "cell_type": "code",
   "execution_count": 6,
   "source": [
    "data = spark.read.option(\"inferSchema\", \"true\").csv(\"hdfs://localhost:9000/Spark/titanic.csv\", header=True)"
   ],
   "outputs": [],
   "metadata": {}
  },
  {
   "cell_type": "code",
   "execution_count": 7,
   "source": [
    "data.show()"
   ],
   "outputs": [
    {
     "output_type": "stream",
     "name": "stdout",
     "text": [
      "+--------+------+------+----+-----+-----+-------+--------+------+-----+----------+----+-----------+-----+-----+\n",
      "|survived|pclass|   sex| age|sibsp|parch|   fare|embarked| class|  who|adult_male|deck|embark_town|alive|alone|\n",
      "+--------+------+------+----+-----+-----+-------+--------+------+-----+----------+----+-----------+-----+-----+\n",
      "|       0|     3|  male|22.0|    1|    0|   7.25|       S| Third|  man|      true|null|Southampton|   no|false|\n",
      "|       1|     1|female|38.0|    1|    0|71.2833|       C| First|woman|     false|   C|  Cherbourg|  yes|false|\n",
      "|       1|     3|female|26.0|    0|    0|  7.925|       S| Third|woman|     false|null|Southampton|  yes| true|\n",
      "|       1|     1|female|35.0|    1|    0|   53.1|       S| First|woman|     false|   C|Southampton|  yes|false|\n",
      "|       0|     3|  male|35.0|    0|    0|   8.05|       S| Third|  man|      true|null|Southampton|   no| true|\n",
      "|       0|     3|  male|null|    0|    0| 8.4583|       Q| Third|  man|      true|null| Queenstown|   no| true|\n",
      "|       0|     1|  male|54.0|    0|    0|51.8625|       S| First|  man|      true|   E|Southampton|   no| true|\n",
      "|       0|     3|  male| 2.0|    3|    1| 21.075|       S| Third|child|     false|null|Southampton|   no|false|\n",
      "|       1|     3|female|27.0|    0|    2|11.1333|       S| Third|woman|     false|null|Southampton|  yes|false|\n",
      "|       1|     2|female|14.0|    1|    0|30.0708|       C|Second|child|     false|null|  Cherbourg|  yes|false|\n",
      "|       1|     3|female| 4.0|    1|    1|   16.7|       S| Third|child|     false|   G|Southampton|  yes|false|\n",
      "|       1|     1|female|58.0|    0|    0|  26.55|       S| First|woman|     false|   C|Southampton|  yes| true|\n",
      "|       0|     3|  male|20.0|    0|    0|   8.05|       S| Third|  man|      true|null|Southampton|   no| true|\n",
      "|       0|     3|  male|39.0|    1|    5| 31.275|       S| Third|  man|      true|null|Southampton|   no|false|\n",
      "|       0|     3|female|14.0|    0|    0| 7.8542|       S| Third|child|     false|null|Southampton|   no| true|\n",
      "|       1|     2|female|55.0|    0|    0|   16.0|       S|Second|woman|     false|null|Southampton|  yes| true|\n",
      "|       0|     3|  male| 2.0|    4|    1| 29.125|       Q| Third|child|     false|null| Queenstown|   no|false|\n",
      "|       1|     2|  male|null|    0|    0|   13.0|       S|Second|  man|      true|null|Southampton|  yes| true|\n",
      "|       0|     3|female|31.0|    1|    0|   18.0|       S| Third|woman|     false|null|Southampton|   no|false|\n",
      "|       1|     3|female|null|    0|    0|  7.225|       C| Third|woman|     false|null|  Cherbourg|  yes| true|\n",
      "+--------+------+------+----+-----+-----+-------+--------+------+-----+----------+----+-----------+-----+-----+\n",
      "only showing top 20 rows\n",
      "\n"
     ]
    }
   ],
   "metadata": {}
  },
  {
   "cell_type": "code",
   "execution_count": 8,
   "source": [
    "data.count()"
   ],
   "outputs": [
    {
     "output_type": "stream",
     "name": "stderr",
     "text": []
    },
    {
     "output_type": "execute_result",
     "data": {
      "text/plain": [
       "891"
      ]
     },
     "metadata": {},
     "execution_count": 8
    }
   ],
   "metadata": {}
  },
  {
   "cell_type": "code",
   "execution_count": 30,
   "source": [
    "titanic_filter=data.select(\"survived\",\"sex\", \"age\",\"alive\", \"who\",\"pclass\",\"embark_town\")"
   ],
   "outputs": [],
   "metadata": {}
  },
  {
   "cell_type": "code",
   "execution_count": 31,
   "source": [
    "titanic_filter.show(10)"
   ],
   "outputs": [
    {
     "output_type": "stream",
     "name": "stdout",
     "text": [
      "+--------+------+----+-----+-----+------+-----------+\n",
      "|survived|   sex| age|alive|  who|pclass|embark_town|\n",
      "+--------+------+----+-----+-----+------+-----------+\n",
      "|       0|  male|22.0|   no|  man|     3|Southampton|\n",
      "|       1|female|38.0|  yes|woman|     1|  Cherbourg|\n",
      "|       1|female|26.0|  yes|woman|     3|Southampton|\n",
      "|       1|female|35.0|  yes|woman|     1|Southampton|\n",
      "|       0|  male|35.0|   no|  man|     3|Southampton|\n",
      "|       0|  male|null|   no|  man|     3| Queenstown|\n",
      "|       0|  male|54.0|   no|  man|     1|Southampton|\n",
      "|       0|  male| 2.0|   no|child|     3|Southampton|\n",
      "|       1|female|27.0|  yes|woman|     3|Southampton|\n",
      "|       1|female|14.0|  yes|child|     2|  Cherbourg|\n",
      "+--------+------+----+-----+-----+------+-----------+\n",
      "only showing top 10 rows\n",
      "\n"
     ]
    },
    {
     "output_type": "stream",
     "name": "stderr",
     "text": []
    }
   ],
   "metadata": {}
  },
  {
   "cell_type": "code",
   "execution_count": 32,
   "source": [
    "titanic_filter.filter(\"survived=1\")"
   ],
   "outputs": [
    {
     "output_type": "execute_result",
     "data": {
      "text/plain": [
       "DataFrame[survived: int, sex: string, age: double, alive: string, who: string, pclass: int, embark_town: string]"
      ]
     },
     "metadata": {},
     "execution_count": 32
    }
   ],
   "metadata": {}
  },
  {
   "cell_type": "code",
   "execution_count": 33,
   "source": [
    "titanic_filter.filter(\"survived=1\").show()"
   ],
   "outputs": [
    {
     "output_type": "stream",
     "name": "stdout",
     "text": [
      "+--------+------+----+-----+-----+------+-----------+\n",
      "|survived|   sex| age|alive|  who|pclass|embark_town|\n",
      "+--------+------+----+-----+-----+------+-----------+\n",
      "|       1|female|38.0|  yes|woman|     1|  Cherbourg|\n",
      "|       1|female|26.0|  yes|woman|     3|Southampton|\n",
      "|       1|female|35.0|  yes|woman|     1|Southampton|\n",
      "|       1|female|27.0|  yes|woman|     3|Southampton|\n",
      "|       1|female|14.0|  yes|child|     2|  Cherbourg|\n",
      "|       1|female| 4.0|  yes|child|     3|Southampton|\n",
      "|       1|female|58.0|  yes|woman|     1|Southampton|\n",
      "|       1|female|55.0|  yes|woman|     2|Southampton|\n",
      "|       1|  male|null|  yes|  man|     2|Southampton|\n",
      "|       1|female|null|  yes|woman|     3|  Cherbourg|\n",
      "|       1|  male|34.0|  yes|  man|     2|Southampton|\n",
      "|       1|female|15.0|  yes|child|     3| Queenstown|\n",
      "|       1|  male|28.0|  yes|  man|     1|Southampton|\n",
      "|       1|female|38.0|  yes|woman|     3|Southampton|\n",
      "|       1|female|null|  yes|woman|     3| Queenstown|\n",
      "|       1|female|null|  yes|woman|     1|  Cherbourg|\n",
      "|       1|female|null|  yes|woman|     3| Queenstown|\n",
      "|       1|  male|null|  yes|  man|     3|  Cherbourg|\n",
      "|       1|female|14.0|  yes|child|     3|  Cherbourg|\n",
      "|       1|female| 3.0|  yes|child|     2|  Cherbourg|\n",
      "+--------+------+----+-----+-----+------+-----------+\n",
      "only showing top 20 rows\n",
      "\n"
     ]
    }
   ],
   "metadata": {}
  },
  {
   "cell_type": "code",
   "execution_count": 34,
   "source": [
    "titanic_filter.filter(\"survived=1 and pclass=1\").show()"
   ],
   "outputs": [
    {
     "output_type": "stream",
     "name": "stdout",
     "text": [
      "+--------+------+----+-----+-----+------+-----------+\n",
      "|survived|   sex| age|alive|  who|pclass|embark_town|\n",
      "+--------+------+----+-----+-----+------+-----------+\n",
      "|       1|female|38.0|  yes|woman|     1|  Cherbourg|\n",
      "|       1|female|35.0|  yes|woman|     1|Southampton|\n",
      "|       1|female|58.0|  yes|woman|     1|Southampton|\n",
      "|       1|  male|28.0|  yes|  man|     1|Southampton|\n",
      "|       1|female|null|  yes|woman|     1|  Cherbourg|\n",
      "|       1|female|49.0|  yes|woman|     1|  Cherbourg|\n",
      "|       1|  male|null|  yes|  man|     1|Southampton|\n",
      "|       1|female|38.0|  yes|woman|     1|       null|\n",
      "|       1|female|23.0|  yes|woman|     1|Southampton|\n",
      "|       1|  male|23.0|  yes|  man|     1|  Cherbourg|\n",
      "|       1|female|19.0|  yes|woman|     1|Southampton|\n",
      "|       1|female|22.0|  yes|woman|     1|Southampton|\n",
      "|       1|female|null|  yes|woman|     1|Southampton|\n",
      "|       1|  male|45.0|  yes|  man|     1|Southampton|\n",
      "|       1|female|44.0|  yes|woman|     1|  Cherbourg|\n",
      "|       1|female|58.0|  yes|woman|     1|  Cherbourg|\n",
      "|       1|  male|40.0|  yes|  man|     1|  Cherbourg|\n",
      "|       1|female|31.0|  yes|woman|     1|  Cherbourg|\n",
      "|       1|female|32.0|  yes|woman|     1|  Cherbourg|\n",
      "|       1|  male|38.0|  yes|  man|     1|Southampton|\n",
      "+--------+------+----+-----+-----+------+-----------+\n",
      "only showing top 20 rows\n",
      "\n"
     ]
    }
   ],
   "metadata": {}
  },
  {
   "cell_type": "code",
   "execution_count": 35,
   "source": [
    "titanic_filter.filter(\"age>=0\").sort((\"age\"), ascending=True).show()"
   ],
   "outputs": [
    {
     "output_type": "stream",
     "name": "stdout",
     "text": [
      "+--------+------+----+-----+-----+------+-----------+\n",
      "|survived|   sex| age|alive|  who|pclass|embark_town|\n",
      "+--------+------+----+-----+-----+------+-----------+\n",
      "|       1|  male|0.42|  yes|child|     3|  Cherbourg|\n",
      "|       1|  male|0.67|  yes|child|     2|Southampton|\n",
      "|       1|female|0.75|  yes|child|     3|  Cherbourg|\n",
      "|       1|female|0.75|  yes|child|     3|  Cherbourg|\n",
      "|       1|  male|0.83|  yes|child|     2|Southampton|\n",
      "|       1|  male|0.83|  yes|child|     2|Southampton|\n",
      "|       1|  male|0.92|  yes|child|     1|Southampton|\n",
      "|       0|  male| 1.0|   no|child|     3|Southampton|\n",
      "|       1|  male| 1.0|  yes|child|     3|Southampton|\n",
      "|       0|  male| 1.0|   no|child|     3|Southampton|\n",
      "|       1|female| 1.0|  yes|child|     3|Southampton|\n",
      "|       1|female| 1.0|  yes|child|     3|  Cherbourg|\n",
      "|       1|  male| 1.0|  yes|child|     2|  Cherbourg|\n",
      "|       1|  male| 1.0|  yes|child|     2|Southampton|\n",
      "|       0|female| 2.0|   no|child|     1|Southampton|\n",
      "|       0|female| 2.0|   no|child|     3|Southampton|\n",
      "|       0|female| 2.0|   no|child|     3|Southampton|\n",
      "|       0|  male| 2.0|   no|child|     3| Queenstown|\n",
      "|       0|  male| 2.0|   no|child|     3|Southampton|\n",
      "|       0|female| 2.0|   no|child|     3|Southampton|\n",
      "+--------+------+----+-----+-----+------+-----------+\n",
      "only showing top 20 rows\n",
      "\n"
     ]
    }
   ],
   "metadata": {}
  },
  {
   "cell_type": "code",
   "execution_count": 36,
   "source": [
    "titanic_filter.describe().show()"
   ],
   "outputs": [
    {
     "output_type": "stream",
     "name": "stdout",
     "text": [
      "+-------+-------------------+------+------------------+-----+-----+------------------+-----------+\n",
      "|summary|           survived|   sex|               age|alive|  who|            pclass|embark_town|\n",
      "+-------+-------------------+------+------------------+-----+-----+------------------+-----------+\n",
      "|  count|                891|   891|               714|  891|  891|               891|        889|\n",
      "|   mean| 0.3838383838383838|  null| 29.69911764705882| null| null| 2.308641975308642|       null|\n",
      "| stddev|0.48659245426485753|  null|14.526497332334035| null| null|0.8360712409770491|       null|\n",
      "|    min|                  0|female|              0.42|   no|child|                 1|  Cherbourg|\n",
      "|    max|                  1|  male|              80.0|  yes|woman|                 3|Southampton|\n",
      "+-------+-------------------+------+------------------+-----+-----+------------------+-----------+\n",
      "\n"
     ]
    }
   ],
   "metadata": {}
  },
  {
   "cell_type": "code",
   "execution_count": 37,
   "source": [
    "titanic_filter.agg({\"age\":\"max\",\"who\":\"max\"}).show()"
   ],
   "outputs": [
    {
     "output_type": "stream",
     "name": "stdout",
     "text": [
      "+--------+--------+\n",
      "|max(age)|max(who)|\n",
      "+--------+--------+\n",
      "|    80.0|   woman|\n",
      "+--------+--------+\n",
      "\n"
     ]
    }
   ],
   "metadata": {}
  },
  {
   "cell_type": "code",
   "execution_count": 38,
   "source": [
    "titanic_filter.printSchema()"
   ],
   "outputs": [
    {
     "output_type": "stream",
     "name": "stdout",
     "text": [
      "root\n",
      " |-- survived: integer (nullable = true)\n",
      " |-- sex: string (nullable = true)\n",
      " |-- age: double (nullable = true)\n",
      " |-- alive: string (nullable = true)\n",
      " |-- who: string (nullable = true)\n",
      " |-- pclass: integer (nullable = true)\n",
      " |-- embark_town: string (nullable = true)\n",
      "\n"
     ]
    }
   ],
   "metadata": {}
  },
  {
   "cell_type": "code",
   "execution_count": null,
   "source": [],
   "outputs": [],
   "metadata": {}
  }
 ],
 "metadata": {
  "orig_nbformat": 4,
  "language_info": {
   "name": "python",
   "version": "3.9.5",
   "mimetype": "text/x-python",
   "codemirror_mode": {
    "name": "ipython",
    "version": 3
   },
   "pygments_lexer": "ipython3",
   "nbconvert_exporter": "python",
   "file_extension": ".py"
  },
  "kernelspec": {
   "name": "python3",
   "display_name": "Python 3.9.5 64-bit"
  },
  "interpreter": {
   "hash": "f9f85f796d01129d0dd105a088854619f454435301f6ffec2fea96ecbd9be4ac"
  }
 },
 "nbformat": 4,
 "nbformat_minor": 2
}