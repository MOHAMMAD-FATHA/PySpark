{
 "cells": [
  {
   "cell_type": "code",
   "execution_count": 1,
   "source": [
    "\"\"\"\n",
    "@Author: Mohammad Fatha\n",
    "@Date: 2021-11-24\n",
    "@Last Modified by: Mohammad Fatha\n",
    "@Title : To create a dataframe from titanic.csv and perform sql operations on it.\n",
    "\"\"\"\n",
    "import findspark"
   ],
   "outputs": [],
   "metadata": {}
  },
  {
   "cell_type": "code",
   "execution_count": 2,
   "source": [
    "findspark.init('/home/fatha/Downloads/spark-3.1.2-bin-hadoop3.2')"
   ],
   "outputs": [],
   "metadata": {}
  },
  {
   "cell_type": "code",
   "execution_count": 3,
   "source": [
    "from pyspark.sql import *\n",
    "spark = SparkSession.builder.getOrCreate()\n",
    "from pyspark.sql.functions import *"
   ],
   "outputs": [
    {
     "output_type": "stream",
     "name": "stderr",
     "text": [
      "2021-11-24 09:31:56,092 WARN util.NativeCodeLoader: Unable to load native-hadoop library for your platform... using builtin-java classes where applicable\n",
      "Setting default log level to \"WARN\".\n",
      "To adjust logging level use sc.setLogLevel(newLevel). For SparkR, use setLogLevel(newLevel).\n"
     ]
    }
   ],
   "metadata": {}
  },
  {
   "cell_type": "code",
   "execution_count": 5,
   "source": [
    "df= spark.read.option(\"inferSchema\", \"true\").csv(\"hdfs://localhost:9000/Spark/titanic.csv\", header=True)"
   ],
   "outputs": [
    {
     "output_type": "stream",
     "name": "stderr",
     "text": []
    }
   ],
   "metadata": {}
  },
  {
   "cell_type": "code",
   "execution_count": 6,
   "source": [
    "df.show()"
   ],
   "outputs": [
    {
     "output_type": "stream",
     "name": "stderr",
     "text": []
    },
    {
     "output_type": "stream",
     "name": "stdout",
     "text": [
      "+--------+------+------+----+-----+-----+-------+--------+------+-----+----------+----+-----------+-----+-----+\n",
      "|survived|pclass|   sex| age|sibsp|parch|   fare|embarked| class|  who|adult_male|deck|embark_town|alive|alone|\n",
      "+--------+------+------+----+-----+-----+-------+--------+------+-----+----------+----+-----------+-----+-----+\n",
      "|       0|     3|  male|22.0|    1|    0|   7.25|       S| Third|  man|      true|null|Southampton|   no|false|\n",
      "|       1|     1|female|38.0|    1|    0|71.2833|       C| First|woman|     false|   C|  Cherbourg|  yes|false|\n",
      "|       1|     3|female|26.0|    0|    0|  7.925|       S| Third|woman|     false|null|Southampton|  yes| true|\n",
      "|       1|     1|female|35.0|    1|    0|   53.1|       S| First|woman|     false|   C|Southampton|  yes|false|\n",
      "|       0|     3|  male|35.0|    0|    0|   8.05|       S| Third|  man|      true|null|Southampton|   no| true|\n",
      "|       0|     3|  male|null|    0|    0| 8.4583|       Q| Third|  man|      true|null| Queenstown|   no| true|\n",
      "|       0|     1|  male|54.0|    0|    0|51.8625|       S| First|  man|      true|   E|Southampton|   no| true|\n",
      "|       0|     3|  male| 2.0|    3|    1| 21.075|       S| Third|child|     false|null|Southampton|   no|false|\n",
      "|       1|     3|female|27.0|    0|    2|11.1333|       S| Third|woman|     false|null|Southampton|  yes|false|\n",
      "|       1|     2|female|14.0|    1|    0|30.0708|       C|Second|child|     false|null|  Cherbourg|  yes|false|\n",
      "|       1|     3|female| 4.0|    1|    1|   16.7|       S| Third|child|     false|   G|Southampton|  yes|false|\n",
      "|       1|     1|female|58.0|    0|    0|  26.55|       S| First|woman|     false|   C|Southampton|  yes| true|\n",
      "|       0|     3|  male|20.0|    0|    0|   8.05|       S| Third|  man|      true|null|Southampton|   no| true|\n",
      "|       0|     3|  male|39.0|    1|    5| 31.275|       S| Third|  man|      true|null|Southampton|   no|false|\n",
      "|       0|     3|female|14.0|    0|    0| 7.8542|       S| Third|child|     false|null|Southampton|   no| true|\n",
      "|       1|     2|female|55.0|    0|    0|   16.0|       S|Second|woman|     false|null|Southampton|  yes| true|\n",
      "|       0|     3|  male| 2.0|    4|    1| 29.125|       Q| Third|child|     false|null| Queenstown|   no|false|\n",
      "|       1|     2|  male|null|    0|    0|   13.0|       S|Second|  man|      true|null|Southampton|  yes| true|\n",
      "|       0|     3|female|31.0|    1|    0|   18.0|       S| Third|woman|     false|null|Southampton|   no|false|\n",
      "|       1|     3|female|null|    0|    0|  7.225|       C| Third|woman|     false|null|  Cherbourg|  yes| true|\n",
      "+--------+------+------+----+-----+-----+-------+--------+------+-----+----------+----+-----------+-----+-----+\n",
      "only showing top 20 rows\n",
      "\n"
     ]
    }
   ],
   "metadata": {}
  },
  {
   "cell_type": "code",
   "execution_count": 7,
   "source": [
    "df1=df.select(\"survived\",\"pclass\", \"embark_town\", \"age\",\"who\")"
   ],
   "outputs": [],
   "metadata": {}
  },
  {
   "cell_type": "code",
   "execution_count": 8,
   "source": [
    "df1.createOrReplaceTempView(\"titanic\")"
   ],
   "outputs": [],
   "metadata": {}
  },
  {
   "cell_type": "code",
   "execution_count": 9,
   "source": [
    "df1.show()"
   ],
   "outputs": [
    {
     "output_type": "stream",
     "name": "stderr",
     "text": []
    },
    {
     "output_type": "stream",
     "name": "stdout",
     "text": [
      "+--------+------+-----------+----+-----+\n",
      "|survived|pclass|embark_town| age|  who|\n",
      "+--------+------+-----------+----+-----+\n",
      "|       0|     3|Southampton|22.0|  man|\n",
      "|       1|     1|  Cherbourg|38.0|woman|\n",
      "|       1|     3|Southampton|26.0|woman|\n",
      "|       1|     1|Southampton|35.0|woman|\n",
      "|       0|     3|Southampton|35.0|  man|\n",
      "|       0|     3| Queenstown|null|  man|\n",
      "|       0|     1|Southampton|54.0|  man|\n",
      "|       0|     3|Southampton| 2.0|child|\n",
      "|       1|     3|Southampton|27.0|woman|\n",
      "|       1|     2|  Cherbourg|14.0|child|\n",
      "|       1|     3|Southampton| 4.0|child|\n",
      "|       1|     1|Southampton|58.0|woman|\n",
      "|       0|     3|Southampton|20.0|  man|\n",
      "|       0|     3|Southampton|39.0|  man|\n",
      "|       0|     3|Southampton|14.0|child|\n",
      "|       1|     2|Southampton|55.0|woman|\n",
      "|       0|     3| Queenstown| 2.0|child|\n",
      "|       1|     2|Southampton|null|  man|\n",
      "|       0|     3|Southampton|31.0|woman|\n",
      "|       1|     3|  Cherbourg|null|woman|\n",
      "+--------+------+-----------+----+-----+\n",
      "only showing top 20 rows\n",
      "\n"
     ]
    },
    {
     "output_type": "stream",
     "name": "stderr",
     "text": []
    }
   ],
   "metadata": {}
  },
  {
   "cell_type": "code",
   "execution_count": 10,
   "source": [
    "data=spark.sql(\"SELECT*FROM titanic\")"
   ],
   "outputs": [],
   "metadata": {}
  },
  {
   "cell_type": "code",
   "execution_count": 11,
   "source": [
    "data.show()"
   ],
   "outputs": [
    {
     "output_type": "stream",
     "name": "stdout",
     "text": [
      "+--------+------+-----------+----+-----+\n",
      "|survived|pclass|embark_town| age|  who|\n",
      "+--------+------+-----------+----+-----+\n",
      "|       0|     3|Southampton|22.0|  man|\n",
      "|       1|     1|  Cherbourg|38.0|woman|\n",
      "|       1|     3|Southampton|26.0|woman|\n",
      "|       1|     1|Southampton|35.0|woman|\n",
      "|       0|     3|Southampton|35.0|  man|\n",
      "|       0|     3| Queenstown|null|  man|\n",
      "|       0|     1|Southampton|54.0|  man|\n",
      "|       0|     3|Southampton| 2.0|child|\n",
      "|       1|     3|Southampton|27.0|woman|\n",
      "|       1|     2|  Cherbourg|14.0|child|\n",
      "|       1|     3|Southampton| 4.0|child|\n",
      "|       1|     1|Southampton|58.0|woman|\n",
      "|       0|     3|Southampton|20.0|  man|\n",
      "|       0|     3|Southampton|39.0|  man|\n",
      "|       0|     3|Southampton|14.0|child|\n",
      "|       1|     2|Southampton|55.0|woman|\n",
      "|       0|     3| Queenstown| 2.0|child|\n",
      "|       1|     2|Southampton|null|  man|\n",
      "|       0|     3|Southampton|31.0|woman|\n",
      "|       1|     3|  Cherbourg|null|woman|\n",
      "+--------+------+-----------+----+-----+\n",
      "only showing top 20 rows\n",
      "\n"
     ]
    }
   ],
   "metadata": {}
  },
  {
   "cell_type": "code",
   "execution_count": 12,
   "source": [
    "spark.sql(\"SELECT survived,embark_town FROM titanic\").show()"
   ],
   "outputs": [
    {
     "output_type": "stream",
     "name": "stderr",
     "text": []
    },
    {
     "output_type": "stream",
     "name": "stdout",
     "text": [
      "+--------+-----------+\n",
      "|survived|embark_town|\n",
      "+--------+-----------+\n",
      "|       0|Southampton|\n",
      "|       1|  Cherbourg|\n",
      "|       1|Southampton|\n",
      "|       1|Southampton|\n",
      "|       0|Southampton|\n",
      "|       0| Queenstown|\n",
      "|       0|Southampton|\n",
      "|       0|Southampton|\n",
      "|       1|Southampton|\n",
      "|       1|  Cherbourg|\n",
      "|       1|Southampton|\n",
      "|       1|Southampton|\n",
      "|       0|Southampton|\n",
      "|       0|Southampton|\n",
      "|       0|Southampton|\n",
      "|       1|Southampton|\n",
      "|       0| Queenstown|\n",
      "|       1|Southampton|\n",
      "|       0|Southampton|\n",
      "|       1|  Cherbourg|\n",
      "+--------+-----------+\n",
      "only showing top 20 rows\n",
      "\n"
     ]
    },
    {
     "output_type": "stream",
     "name": "stderr",
     "text": []
    }
   ],
   "metadata": {}
  },
  {
   "cell_type": "code",
   "execution_count": 13,
   "source": [
    "spark.sql(\"SELECT * FROM titanic WHERE `survived`=1\").show()"
   ],
   "outputs": [
    {
     "output_type": "stream",
     "name": "stdout",
     "text": [
      "+--------+------+-----------+----+-----+\n",
      "|survived|pclass|embark_town| age|  who|\n",
      "+--------+------+-----------+----+-----+\n",
      "|       1|     1|  Cherbourg|38.0|woman|\n",
      "|       1|     3|Southampton|26.0|woman|\n",
      "|       1|     1|Southampton|35.0|woman|\n",
      "|       1|     3|Southampton|27.0|woman|\n",
      "|       1|     2|  Cherbourg|14.0|child|\n",
      "|       1|     3|Southampton| 4.0|child|\n",
      "|       1|     1|Southampton|58.0|woman|\n",
      "|       1|     2|Southampton|55.0|woman|\n",
      "|       1|     2|Southampton|null|  man|\n",
      "|       1|     3|  Cherbourg|null|woman|\n",
      "|       1|     2|Southampton|34.0|  man|\n",
      "|       1|     3| Queenstown|15.0|child|\n",
      "|       1|     1|Southampton|28.0|  man|\n",
      "|       1|     3|Southampton|38.0|woman|\n",
      "|       1|     3| Queenstown|null|woman|\n",
      "|       1|     1|  Cherbourg|null|woman|\n",
      "|       1|     3| Queenstown|null|woman|\n",
      "|       1|     3|  Cherbourg|null|  man|\n",
      "|       1|     3|  Cherbourg|14.0|child|\n",
      "|       1|     2|  Cherbourg| 3.0|child|\n",
      "+--------+------+-----------+----+-----+\n",
      "only showing top 20 rows\n",
      "\n"
     ]
    }
   ],
   "metadata": {}
  },
  {
   "cell_type": "code",
   "execution_count": 14,
   "source": [
    "spark.sql(\"SELECT * FROM titanic WHERE `age`>=0 ORDER BY age desc limit 10\").show()"
   ],
   "outputs": [
    {
     "output_type": "stream",
     "name": "stderr",
     "text": []
    },
    {
     "output_type": "stream",
     "name": "stdout",
     "text": [
      "+--------+------+-----------+----+---+\n",
      "|survived|pclass|embark_town| age|who|\n",
      "+--------+------+-----------+----+---+\n",
      "|       1|     1|Southampton|80.0|man|\n",
      "|       0|     3|Southampton|74.0|man|\n",
      "|       0|     1|  Cherbourg|71.0|man|\n",
      "|       0|     1|  Cherbourg|71.0|man|\n",
      "|       0|     3| Queenstown|70.5|man|\n",
      "|       0|     2|Southampton|70.0|man|\n",
      "|       0|     1|Southampton|70.0|man|\n",
      "|       0|     2|Southampton|66.0|man|\n",
      "|       0|     3| Queenstown|65.0|man|\n",
      "|       0|     1|Southampton|65.0|man|\n",
      "+--------+------+-----------+----+---+\n",
      "\n"
     ]
    },
    {
     "output_type": "stream",
     "name": "stderr",
     "text": []
    }
   ],
   "metadata": {}
  },
  {
   "cell_type": "code",
   "execution_count": 16,
   "source": [
    "spark.sql(\"SELECT COUNT('survived') FROM titanic\").show()"
   ],
   "outputs": [
    {
     "output_type": "stream",
     "name": "stdout",
     "text": [
      "+---------------+\n",
      "|count(survived)|\n",
      "+---------------+\n",
      "|            891|\n",
      "+---------------+\n",
      "\n"
     ]
    }
   ],
   "metadata": {}
  },
  {
   "cell_type": "code",
   "execution_count": 17,
   "source": [
    "spark.sql(\"SELECT MAX(age) FROM titanic\").show()"
   ],
   "outputs": [
    {
     "output_type": "stream",
     "name": "stderr",
     "text": []
    },
    {
     "output_type": "stream",
     "name": "stdout",
     "text": [
      "+--------+\n",
      "|max(age)|\n",
      "+--------+\n",
      "|    80.0|\n",
      "+--------+\n",
      "\n"
     ]
    },
    {
     "output_type": "stream",
     "name": "stderr",
     "text": []
    }
   ],
   "metadata": {}
  },
  {
   "cell_type": "code",
   "execution_count": 18,
   "source": [
    "spark.sql(\"SELECT MIN(age) FROM titanic\").show()"
   ],
   "outputs": [
    {
     "output_type": "stream",
     "name": "stdout",
     "text": [
      "+--------+\n",
      "|min(age)|\n",
      "+--------+\n",
      "|    0.42|\n",
      "+--------+\n",
      "\n"
     ]
    }
   ],
   "metadata": {}
  },
  {
   "cell_type": "code",
   "execution_count": 19,
   "source": [
    "spark.sql(\"SELECT * FROM titanic WHERE `age`>60 ORDER BY age\").show()"
   ],
   "outputs": [
    {
     "output_type": "stream",
     "name": "stderr",
     "text": []
    },
    {
     "output_type": "stream",
     "name": "stdout",
     "text": [
      "+--------+------+-----------+----+-----+\n",
      "|survived|pclass|embark_town| age|  who|\n",
      "+--------+------+-----------+----+-----+\n",
      "|       0|     1|Southampton|61.0|  man|\n",
      "|       0|     3|Southampton|61.0|  man|\n",
      "|       0|     1|Southampton|61.0|  man|\n",
      "|       1|     2|Southampton|62.0|  man|\n",
      "|       1|     1|       null|62.0|woman|\n",
      "|       0|     1|Southampton|62.0|  man|\n",
      "|       0|     1|Southampton|62.0|  man|\n",
      "|       1|     3|Southampton|63.0|woman|\n",
      "|       1|     1|Southampton|63.0|woman|\n",
      "|       0|     1|Southampton|64.0|  man|\n",
      "|       0|     1|Southampton|64.0|  man|\n",
      "|       0|     1|  Cherbourg|65.0|  man|\n",
      "|       0|     3| Queenstown|65.0|  man|\n",
      "|       0|     1|Southampton|65.0|  man|\n",
      "|       0|     2|Southampton|66.0|  man|\n",
      "|       0|     2|Southampton|70.0|  man|\n",
      "|       0|     1|Southampton|70.0|  man|\n",
      "|       0|     3| Queenstown|70.5|  man|\n",
      "|       0|     1|  Cherbourg|71.0|  man|\n",
      "|       0|     1|  Cherbourg|71.0|  man|\n",
      "+--------+------+-----------+----+-----+\n",
      "only showing top 20 rows\n",
      "\n"
     ]
    }
   ],
   "metadata": {}
  },
  {
   "cell_type": "code",
   "execution_count": 24,
   "source": [
    "spark.sql(\"SELECT COUNT('survived') FROM  titanic WHERE `age`>60\").show()"
   ],
   "outputs": [
    {
     "output_type": "stream",
     "name": "stderr",
     "text": []
    },
    {
     "output_type": "stream",
     "name": "stdout",
     "text": [
      "+---------------+\n",
      "|count(survived)|\n",
      "+---------------+\n",
      "|             22|\n",
      "+---------------+\n",
      "\n"
     ]
    },
    {
     "output_type": "stream",
     "name": "stderr",
     "text": []
    }
   ],
   "metadata": {}
  },
  {
   "cell_type": "code",
   "execution_count": 25,
   "source": [
    "spark.sql(\"SELECT who FROM titanic WHERE age = (SELECT MAX(age) FROM titanic)\").show()"
   ],
   "outputs": [
    {
     "output_type": "stream",
     "name": "stderr",
     "text": []
    },
    {
     "output_type": "stream",
     "name": "stdout",
     "text": [
      "+---+\n",
      "|who|\n",
      "+---+\n",
      "|man|\n",
      "+---+\n",
      "\n"
     ]
    },
    {
     "output_type": "stream",
     "name": "stderr",
     "text": []
    }
   ],
   "metadata": {}
  },
  {
   "cell_type": "code",
   "execution_count": 33,
   "source": [
    "spark.sql(\"SELECT * FROM titanic WHERE age=60\").show()"
   ],
   "outputs": [
    {
     "output_type": "stream",
     "name": "stdout",
     "text": [
      "+--------+------+-----------+----+-----+\n",
      "|survived|pclass|embark_town| age|  who|\n",
      "+--------+------+-----------+----+-----+\n",
      "|       1|     1|  Cherbourg|60.0|woman|\n",
      "|       1|     1|  Cherbourg|60.0|  man|\n",
      "|       0|     2|Southampton|60.0|  man|\n",
      "|       0|     1|Southampton|60.0|  man|\n",
      "+--------+------+-----------+----+-----+\n",
      "\n"
     ]
    }
   ],
   "metadata": {}
  },
  {
   "cell_type": "code",
   "execution_count": 34,
   "source": [
    "spark.sql(\"SELECT MAX(age) AS `Maximum age` FROM titanic\").show()"
   ],
   "outputs": [
    {
     "output_type": "stream",
     "name": "stderr",
     "text": []
    },
    {
     "output_type": "stream",
     "name": "stdout",
     "text": [
      "+-----------+\n",
      "|Maximum age|\n",
      "+-----------+\n",
      "|       80.0|\n",
      "+-----------+\n",
      "\n"
     ]
    },
    {
     "output_type": "stream",
     "name": "stderr",
     "text": []
    }
   ],
   "metadata": {}
  },
  {
   "cell_type": "code",
   "execution_count": null,
   "source": [],
   "outputs": [],
   "metadata": {}
  }
 ],
 "metadata": {
  "orig_nbformat": 4,
  "language_info": {
   "name": "python",
   "version": "3.9.5",
   "mimetype": "text/x-python",
   "codemirror_mode": {
    "name": "ipython",
    "version": 3
   },
   "pygments_lexer": "ipython3",
   "nbconvert_exporter": "python",
   "file_extension": ".py"
  },
  "kernelspec": {
   "name": "python3",
   "display_name": "Python 3.9.5 64-bit"
  },
  "interpreter": {
   "hash": "f9f85f796d01129d0dd105a088854619f454435301f6ffec2fea96ecbd9be4ac"
  }
 },
 "nbformat": 4,
 "nbformat_minor": 2
}